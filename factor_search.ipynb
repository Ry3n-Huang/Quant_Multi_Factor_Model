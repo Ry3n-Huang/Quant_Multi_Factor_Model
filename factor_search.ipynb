{
 "cells": [
  {
   "cell_type": "code",
   "execution_count": 1,
   "metadata": {},
   "outputs": [],
   "source": [
    "import sys \n",
    "import pickle\n",
    "import numpy as np\n",
    "import pandas as pd\n",
    "import matplotlib.pyplot as plt\n",
    "import datetime as dt\n",
    "from sqlalchemy import create_engine\n",
    "from tqdm import tqdm\n",
    "from sqlalchemy import text\n",
    "\n",
    "# 引入自定义函数包\n",
    "import search_func\n",
    "\n",
    "# 设置展开所有列\n",
    "pd.set_option('display.max_columns', None)\n"
   ]
  },
  {
   "cell_type": "code",
   "execution_count": 8,
   "metadata": {},
   "outputs": [
    {
     "data": {
      "text/html": [
       "<div>\n",
       "<style scoped>\n",
       "    .dataframe tbody tr th:only-of-type {\n",
       "        vertical-align: middle;\n",
       "    }\n",
       "\n",
       "    .dataframe tbody tr th {\n",
       "        vertical-align: top;\n",
       "    }\n",
       "\n",
       "    .dataframe thead th {\n",
       "        text-align: right;\n",
       "    }\n",
       "</style>\n",
       "<table border=\"1\" class=\"dataframe\">\n",
       "  <thead>\n",
       "    <tr style=\"text-align: right;\">\n",
       "      <th></th>\n",
       "      <th>S_INFO_WINDCODE</th>\n",
       "      <th>TRADE_DT</th>\n",
       "      <th>wr_w_10</th>\n",
       "      <th>ROC12</th>\n",
       "    </tr>\n",
       "  </thead>\n",
       "  <tbody>\n",
       "    <tr>\n",
       "      <th>0</th>\n",
       "      <td>000001.SZ</td>\n",
       "      <td>20150105</td>\n",
       "      <td>0.099978</td>\n",
       "      <td>11.327582</td>\n",
       "    </tr>\n",
       "    <tr>\n",
       "      <th>1</th>\n",
       "      <td>000001.SZ</td>\n",
       "      <td>20150106</td>\n",
       "      <td>0.225073</td>\n",
       "      <td>2.735069</td>\n",
       "    </tr>\n",
       "    <tr>\n",
       "      <th>2</th>\n",
       "      <td>000001.SZ</td>\n",
       "      <td>20150107</td>\n",
       "      <td>0.335791</td>\n",
       "      <td>3.962230</td>\n",
       "    </tr>\n",
       "    <tr>\n",
       "      <th>3</th>\n",
       "      <td>000001.SZ</td>\n",
       "      <td>20150108</td>\n",
       "      <td>0.527680</td>\n",
       "      <td>-0.267402</td>\n",
       "    </tr>\n",
       "    <tr>\n",
       "      <th>4</th>\n",
       "      <td>000001.SZ</td>\n",
       "      <td>20150109</td>\n",
       "      <td>0.557432</td>\n",
       "      <td>-1.694558</td>\n",
       "    </tr>\n",
       "    <tr>\n",
       "      <th>...</th>\n",
       "      <td>...</td>\n",
       "      <td>...</td>\n",
       "      <td>...</td>\n",
       "      <td>...</td>\n",
       "    </tr>\n",
       "    <tr>\n",
       "      <th>2025</th>\n",
       "      <td>000001.SZ</td>\n",
       "      <td>20230504</td>\n",
       "      <td>0.388438</td>\n",
       "      <td>1.353561</td>\n",
       "    </tr>\n",
       "    <tr>\n",
       "      <th>2026</th>\n",
       "      <td>000001.SZ</td>\n",
       "      <td>20230505</td>\n",
       "      <td>0.178527</td>\n",
       "      <td>1.733928</td>\n",
       "    </tr>\n",
       "    <tr>\n",
       "      <th>2027</th>\n",
       "      <td>000001.SZ</td>\n",
       "      <td>20230508</td>\n",
       "      <td>0.113341</td>\n",
       "      <td>3.015884</td>\n",
       "    </tr>\n",
       "    <tr>\n",
       "      <th>2028</th>\n",
       "      <td>000001.SZ</td>\n",
       "      <td>20230509</td>\n",
       "      <td>0.273292</td>\n",
       "      <td>1.230784</td>\n",
       "    </tr>\n",
       "    <tr>\n",
       "      <th>2029</th>\n",
       "      <td>000001.SZ</td>\n",
       "      <td>20230510</td>\n",
       "      <td>0.472060</td>\n",
       "      <td>-0.077865</td>\n",
       "    </tr>\n",
       "  </tbody>\n",
       "</table>\n",
       "<p>2030 rows × 4 columns</p>\n",
       "</div>"
      ],
      "text/plain": [
       "     S_INFO_WINDCODE  TRADE_DT   wr_w_10      ROC12\n",
       "0          000001.SZ  20150105  0.099978  11.327582\n",
       "1          000001.SZ  20150106  0.225073   2.735069\n",
       "2          000001.SZ  20150107  0.335791   3.962230\n",
       "3          000001.SZ  20150108  0.527680  -0.267402\n",
       "4          000001.SZ  20150109  0.557432  -1.694558\n",
       "...              ...       ...       ...        ...\n",
       "2025       000001.SZ  20230504  0.388438   1.353561\n",
       "2026       000001.SZ  20230505  0.178527   1.733928\n",
       "2027       000001.SZ  20230508  0.113341   3.015884\n",
       "2028       000001.SZ  20230509  0.273292   1.230784\n",
       "2029       000001.SZ  20230510  0.472060  -0.077865\n",
       "\n",
       "[2030 rows x 4 columns]"
      ]
     },
     "execution_count": 8,
     "metadata": {},
     "output_type": "execute_result"
    }
   ],
   "source": [
    "search_func.get_factor(['wr_w_10','ROC12'],['000001.SZ'],'20150101','20231231')"
   ]
  },
  {
   "cell_type": "code",
   "execution_count": 3,
   "metadata": {},
   "outputs": [
    {
     "ename": "NameError",
     "evalue": "name 'factors' is not defined",
     "output_type": "error",
     "traceback": [
      "\u001b[0;31m---------------------------------------------------------------------------\u001b[0m",
      "\u001b[0;31mNameError\u001b[0m                                 Traceback (most recent call last)",
      "Cell \u001b[0;32mIn[3], line 2\u001b[0m\n\u001b[1;32m      1\u001b[0m \u001b[38;5;66;03m# 查看ic值等信息\u001b[39;00m\n\u001b[0;32m----> 2\u001b[0m search_func\u001b[38;5;241m.\u001b[39mic_icir(factors,codes_list,start_time,end_time,shift)\n",
      "\u001b[0;31mNameError\u001b[0m: name 'factors' is not defined"
     ]
    }
   ],
   "source": [
    "# 查看ic值等信息\n",
    "search_func.ic_icir(factors,codes_list,start_time,end_time,shift)\n"
   ]
  },
  {
   "cell_type": "code",
   "execution_count": null,
   "metadata": {},
   "outputs": [],
   "source": []
  },
  {
   "cell_type": "code",
   "execution_count": null,
   "metadata": {},
   "outputs": [
    {
     "ename": "FileNotFoundError",
     "evalue": "[Errno 2] No such file or directory: 'pkl_fold\\\\ZZ500.pkl'",
     "output_type": "error",
     "traceback": [
      "\u001b[0;31m---------------------------------------------------------------------------\u001b[0m",
      "\u001b[0;31mFileNotFoundError\u001b[0m                         Traceback (most recent call last)",
      "Cell \u001b[0;32mIn[1], line 5\u001b[0m\n\u001b[1;32m      2\u001b[0m factors \u001b[38;5;241m=\u001b[39m [\u001b[38;5;124m'\u001b[39m\u001b[38;5;124mROC12\u001b[39m\u001b[38;5;124m'\u001b[39m, \u001b[38;5;124m'\u001b[39m\u001b[38;5;124mcorr_cp_turnover_10\u001b[39m\u001b[38;5;124m'\u001b[39m, \u001b[38;5;124m'\u001b[39m\u001b[38;5;124mjumpdown_10\u001b[39m\u001b[38;5;124m'\u001b[39m, \u001b[38;5;124m'\u001b[39m\u001b[38;5;124mwr_w_5\u001b[39m\u001b[38;5;124m'\u001b[39m]\n\u001b[1;32m      4\u001b[0m \u001b[38;5;66;03m# 读取包含股票代码的pickle文件\u001b[39;00m\n\u001b[0;32m----> 5\u001b[0m \u001b[38;5;28;01mwith\u001b[39;00m \u001b[38;5;28;43mopen\u001b[39;49m\u001b[43m(\u001b[49m\u001b[38;5;124;43m'\u001b[39;49m\u001b[38;5;124;43mpkl_fold\u001b[39;49m\u001b[38;5;130;43;01m\\\\\u001b[39;49;00m\u001b[38;5;124;43mZZ500.pkl\u001b[39;49m\u001b[38;5;124;43m'\u001b[39;49m\u001b[43m,\u001b[49m\u001b[43m \u001b[49m\u001b[38;5;124;43m'\u001b[39;49m\u001b[38;5;124;43mrb\u001b[39;49m\u001b[38;5;124;43m'\u001b[39;49m\u001b[43m)\u001b[49m \u001b[38;5;28;01mas\u001b[39;00m f:\n\u001b[1;32m      6\u001b[0m     \u001b[38;5;66;03m# codes_list 包含了我们想要获取的股票的代码\u001b[39;00m\n\u001b[1;32m      7\u001b[0m     codes_list \u001b[38;5;241m=\u001b[39m pickle\u001b[38;5;241m.\u001b[39mload(f)\n\u001b[1;32m      9\u001b[0m \u001b[38;5;66;03m# 设置我们希望获取数据的时间范围，从2015年1月1日至2023年12月31日\u001b[39;00m\n",
      "File \u001b[0;32m~/anaconda3/lib/python3.11/site-packages/IPython/core/interactiveshell.py:282\u001b[0m, in \u001b[0;36m_modified_open\u001b[0;34m(file, *args, **kwargs)\u001b[0m\n\u001b[1;32m    275\u001b[0m \u001b[38;5;28;01mif\u001b[39;00m file \u001b[38;5;129;01min\u001b[39;00m {\u001b[38;5;241m0\u001b[39m, \u001b[38;5;241m1\u001b[39m, \u001b[38;5;241m2\u001b[39m}:\n\u001b[1;32m    276\u001b[0m     \u001b[38;5;28;01mraise\u001b[39;00m \u001b[38;5;167;01mValueError\u001b[39;00m(\n\u001b[1;32m    277\u001b[0m         \u001b[38;5;124mf\u001b[39m\u001b[38;5;124m\"\u001b[39m\u001b[38;5;124mIPython won\u001b[39m\u001b[38;5;124m'\u001b[39m\u001b[38;5;124mt let you open fd=\u001b[39m\u001b[38;5;132;01m{\u001b[39;00mfile\u001b[38;5;132;01m}\u001b[39;00m\u001b[38;5;124m by default \u001b[39m\u001b[38;5;124m\"\u001b[39m\n\u001b[1;32m    278\u001b[0m         \u001b[38;5;124m\"\u001b[39m\u001b[38;5;124mas it is likely to crash IPython. If you know what you are doing, \u001b[39m\u001b[38;5;124m\"\u001b[39m\n\u001b[1;32m    279\u001b[0m         \u001b[38;5;124m\"\u001b[39m\u001b[38;5;124myou can use builtins\u001b[39m\u001b[38;5;124m'\u001b[39m\u001b[38;5;124m open.\u001b[39m\u001b[38;5;124m\"\u001b[39m\n\u001b[1;32m    280\u001b[0m     )\n\u001b[0;32m--> 282\u001b[0m \u001b[38;5;28;01mreturn\u001b[39;00m \u001b[43mio_open\u001b[49m\u001b[43m(\u001b[49m\u001b[43mfile\u001b[49m\u001b[43m,\u001b[49m\u001b[43m \u001b[49m\u001b[38;5;241;43m*\u001b[39;49m\u001b[43margs\u001b[49m\u001b[43m,\u001b[49m\u001b[43m \u001b[49m\u001b[38;5;241;43m*\u001b[39;49m\u001b[38;5;241;43m*\u001b[39;49m\u001b[43mkwargs\u001b[49m\u001b[43m)\u001b[49m\n",
      "\u001b[0;31mFileNotFoundError\u001b[0m: [Errno 2] No such file or directory: 'pkl_fold\\\\ZZ500.pkl'"
     ]
    }
   ],
   "source": [
    "# 定义要获取的因子列表\n",
    "factors = ['ROC12', 'corr_cp_turnover_10', 'jumpdown_10', 'wr_w_5']\n",
    "\n",
    "# 读取包含股票代码的pickle文件\n",
    "with open('pkl_fold\\\\ZZ500.pkl', 'rb') as f:\n",
    "    # codes_list 包含了我们想要获取的股票的代码\n",
    "    codes_list = pickle.load(f)\n",
    "\n",
    "# 设置我们希望获取数据的时间范围，从2015年1月1日至2023年12月31日\n",
    "start_time = '20150101'\n",
    "end_time = '20231231'\n",
    "\n",
    "# 设置计算IC时收益率的滞后期数\n",
    "shift = 20\n"
   ]
  },
  {
   "cell_type": "code",
   "execution_count": null,
   "metadata": {},
   "outputs": [],
   "source": []
  }
 ],
 "metadata": {
  "kernelspec": {
   "display_name": "Python 3 (ipykernel)",
   "language": "python",
   "name": "python3"
  },
  "language_info": {
   "codemirror_mode": {
    "name": "ipython",
    "version": 3
   },
   "file_extension": ".py",
   "mimetype": "text/x-python",
   "name": "python",
   "nbconvert_exporter": "python",
   "pygments_lexer": "ipython3",
   "version": "3.11.9"
  }
 },
 "nbformat": 4,
 "nbformat_minor": 2
}
